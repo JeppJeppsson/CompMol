{
 "cells": [
  {
   "cell_type": "code",
   "execution_count": 4,
   "metadata": {},
   "outputs": [],
   "source": [
    "# Initialization\n",
    "import numpy as np\n",
    "import scipy as sp\n",
    "from matplotlib import pyplot as plt\n",
    "\n",
    "# Constants\n",
    "threshold = 1e-5 # In eV\n",
    "iter = 100\n",
    "Z = 2 # Helium\n",
    "\n",
    "# Finite difference method setup\n",
    "N = 1000\n",
    "r_min = 0\n",
    "r_max = 5\n",
    "h = (r_max - r_min) / N\n",
    "rho = np.arange(1,N+1)*h # Range from r_min to r_max\n",
    "\n",
    "init_guess = 1/np.pi*Z**3*np.exp(-2*Z*rho) # Alex's guess"
   ]
  },
  {
   "cell_type": "code",
   "execution_count": 10,
   "metadata": {},
   "outputs": [
    {
     "name": "stdout",
     "output_type": "stream",
     "text": [
      "Iteration: 19\r"
     ]
    },
    {
     "ename": "KeyboardInterrupt",
     "evalue": "",
     "output_type": "error",
     "traceback": [
      "\u001b[1;31m---------------------------------------------------------------------------\u001b[0m",
      "\u001b[1;31mKeyboardInterrupt\u001b[0m                         Traceback (most recent call last)",
      "\u001b[1;32m<ipython-input-10-501a88315cc4>\u001b[0m in \u001b[0;36m<module>\u001b[1;34m\u001b[0m\n\u001b[0;32m     67\u001b[0m         \u001b[0mprint\u001b[0m\u001b[1;33m(\u001b[0m\u001b[1;34mf'Did not converge in {iter} iterations.'\u001b[0m\u001b[1;33m)\u001b[0m\u001b[1;33m\u001b[0m\u001b[1;33m\u001b[0m\u001b[0m\n\u001b[0;32m     68\u001b[0m \u001b[1;33m\u001b[0m\u001b[0m\n\u001b[1;32m---> 69\u001b[1;33m \u001b[0mself_consistency_solver\u001b[0m\u001b[1;33m(\u001b[0m\u001b[0miter\u001b[0m\u001b[1;33m,\u001b[0m\u001b[0mthreshold\u001b[0m\u001b[1;33m)\u001b[0m\u001b[1;33m\u001b[0m\u001b[1;33m\u001b[0m\u001b[0m\n\u001b[0m",
      "\u001b[1;32m<ipython-input-10-501a88315cc4>\u001b[0m in \u001b[0;36mself_consistency_solver\u001b[1;34m(iterations, threshold)\u001b[0m\n\u001b[0;32m     51\u001b[0m     \u001b[1;32mfor\u001b[0m \u001b[0mi\u001b[0m \u001b[1;32min\u001b[0m \u001b[0mrange\u001b[0m\u001b[1;33m(\u001b[0m\u001b[0miter\u001b[0m\u001b[1;33m)\u001b[0m\u001b[1;33m:\u001b[0m\u001b[1;33m\u001b[0m\u001b[1;33m\u001b[0m\u001b[0m\n\u001b[0;32m     52\u001b[0m         \u001b[0mprint\u001b[0m\u001b[1;33m(\u001b[0m\u001b[1;34mf'Iteration: {i}'\u001b[0m\u001b[1;33m,\u001b[0m\u001b[0mend\u001b[0m\u001b[1;33m=\u001b[0m\u001b[1;34m'\\r'\u001b[0m\u001b[1;33m)\u001b[0m\u001b[1;33m\u001b[0m\u001b[1;33m\u001b[0m\u001b[0m\n\u001b[1;32m---> 53\u001b[1;33m         \u001b[0mpsi\u001b[0m \u001b[1;33m=\u001b[0m \u001b[0mgenerate_wavefunction\u001b[0m\u001b[1;33m(\u001b[0m\u001b[0mrho\u001b[0m\u001b[1;33m,\u001b[0m\u001b[0mV_H\u001b[0m\u001b[1;33m,\u001b[0m\u001b[0mZ\u001b[0m\u001b[1;33m)\u001b[0m\u001b[1;33m[\u001b[0m\u001b[1;36m1\u001b[0m\u001b[1;33m]\u001b[0m\u001b[1;33m\u001b[0m\u001b[1;33m\u001b[0m\u001b[0m\n\u001b[0m\u001b[0;32m     54\u001b[0m         \u001b[0mepsilon\u001b[0m \u001b[1;33m=\u001b[0m \u001b[0mgenerate_wavefunction\u001b[0m\u001b[1;33m(\u001b[0m\u001b[0mrho\u001b[0m\u001b[1;33m,\u001b[0m\u001b[0mV_H\u001b[0m\u001b[1;33m,\u001b[0m\u001b[0mZ\u001b[0m\u001b[1;33m)\u001b[0m\u001b[1;33m[\u001b[0m\u001b[1;36m0\u001b[0m\u001b[1;33m]\u001b[0m\u001b[1;33m\u001b[0m\u001b[1;33m\u001b[0m\u001b[0m\n\u001b[0;32m     55\u001b[0m \u001b[1;33m\u001b[0m\u001b[0m\n",
      "\u001b[1;32m<ipython-input-10-501a88315cc4>\u001b[0m in \u001b[0;36mgenerate_wavefunction\u001b[1;34m(rho, V, Z)\u001b[0m\n\u001b[0;32m      9\u001b[0m \u001b[1;33m\u001b[0m\u001b[0m\n\u001b[0;32m     10\u001b[0m     \u001b[1;31m# Eigenvalues and -vectors\u001b[0m\u001b[1;33m\u001b[0m\u001b[1;33m\u001b[0m\u001b[1;33m\u001b[0m\u001b[0m\n\u001b[1;32m---> 11\u001b[1;33m     \u001b[1;33m(\u001b[0m\u001b[0mEigenvalues\u001b[0m\u001b[1;33m,\u001b[0m\u001b[0mEigenvectors\u001b[0m\u001b[1;33m)\u001b[0m \u001b[1;33m=\u001b[0m \u001b[0mnp\u001b[0m\u001b[1;33m.\u001b[0m\u001b[0mlinalg\u001b[0m\u001b[1;33m.\u001b[0m\u001b[0meig\u001b[0m\u001b[1;33m(\u001b[0m\u001b[0mA\u001b[0m\u001b[1;33m)\u001b[0m\u001b[1;33m\u001b[0m\u001b[1;33m\u001b[0m\u001b[0m\n\u001b[0m\u001b[0;32m     12\u001b[0m \u001b[1;33m\u001b[0m\u001b[0m\n\u001b[0;32m     13\u001b[0m     \u001b[1;31m# For the ground state, we make use of the lowest eigenstate\u001b[0m\u001b[1;33m\u001b[0m\u001b[1;33m\u001b[0m\u001b[1;33m\u001b[0m\u001b[0m\n",
      "\u001b[1;32mc:\\Users\\hemda\\AppData\\Local\\Programs\\Python\\Python39\\lib\\site-packages\\numpy\\core\\overrides.py\u001b[0m in \u001b[0;36meig\u001b[1;34m(*args, **kwargs)\u001b[0m\n",
      "\u001b[1;32mc:\\Users\\hemda\\AppData\\Local\\Programs\\Python\\Python39\\lib\\site-packages\\numpy\\linalg\\linalg.py\u001b[0m in \u001b[0;36meig\u001b[1;34m(a)\u001b[0m\n\u001b[0;32m   1316\u001b[0m         _raise_linalgerror_eigenvalues_nonconvergence)\n\u001b[0;32m   1317\u001b[0m     \u001b[0msignature\u001b[0m \u001b[1;33m=\u001b[0m \u001b[1;34m'D->DD'\u001b[0m \u001b[1;32mif\u001b[0m \u001b[0misComplexType\u001b[0m\u001b[1;33m(\u001b[0m\u001b[0mt\u001b[0m\u001b[1;33m)\u001b[0m \u001b[1;32melse\u001b[0m \u001b[1;34m'd->DD'\u001b[0m\u001b[1;33m\u001b[0m\u001b[1;33m\u001b[0m\u001b[0m\n\u001b[1;32m-> 1318\u001b[1;33m     \u001b[0mw\u001b[0m\u001b[1;33m,\u001b[0m \u001b[0mvt\u001b[0m \u001b[1;33m=\u001b[0m \u001b[0m_umath_linalg\u001b[0m\u001b[1;33m.\u001b[0m\u001b[0meig\u001b[0m\u001b[1;33m(\u001b[0m\u001b[0ma\u001b[0m\u001b[1;33m,\u001b[0m \u001b[0msignature\u001b[0m\u001b[1;33m=\u001b[0m\u001b[0msignature\u001b[0m\u001b[1;33m,\u001b[0m \u001b[0mextobj\u001b[0m\u001b[1;33m=\u001b[0m\u001b[0mextobj\u001b[0m\u001b[1;33m)\u001b[0m\u001b[1;33m\u001b[0m\u001b[1;33m\u001b[0m\u001b[0m\n\u001b[0m\u001b[0;32m   1319\u001b[0m \u001b[1;33m\u001b[0m\u001b[0m\n\u001b[0;32m   1320\u001b[0m     \u001b[1;32mif\u001b[0m \u001b[1;32mnot\u001b[0m \u001b[0misComplexType\u001b[0m\u001b[1;33m(\u001b[0m\u001b[0mt\u001b[0m\u001b[1;33m)\u001b[0m \u001b[1;32mand\u001b[0m \u001b[0mall\u001b[0m\u001b[1;33m(\u001b[0m\u001b[0mw\u001b[0m\u001b[1;33m.\u001b[0m\u001b[0mimag\u001b[0m \u001b[1;33m==\u001b[0m \u001b[1;36m0.0\u001b[0m\u001b[1;33m)\u001b[0m\u001b[1;33m:\u001b[0m\u001b[1;33m\u001b[0m\u001b[1;33m\u001b[0m\u001b[0m\n",
      "\u001b[1;31mKeyboardInterrupt\u001b[0m: "
     ]
    }
   ],
   "source": [
    "# Helper functions\n",
    "\n",
    "def generate_wavefunction(rho,V,Z):\n",
    "    # Determines the wavefunction and energy using the Hartree approximation\n",
    "\n",
    "    A = np.diag(h**-2 - Z*rho**-1 + V,0) + \\\n",
    "        np.diag(-np.ones(N-1)/(2*h**2),1) + \\\n",
    "        np.diag(-np.ones(N-1)/(2*h**2),-1) # FDM matrix\n",
    "    \n",
    "    # Eigenvalues and -vectors\n",
    "    (Eigenvalues,Eigenvectors) = np.linalg.eig(A)\n",
    "\n",
    "    # For the ground state, we make use of the lowest eigenstate\n",
    "    low = Eigenvectors[:,np.argmin(Eigenvalues)]\n",
    "    #low = np.sign(low[0]) * low / np.linalg.norm(low) # Normalizing\n",
    "    low = low / (np.sqrt(np.trapz(low**2,rho))*np.sign(low[0]))\n",
    "\n",
    "    # Finally calculating the wavefunction using eq.34\n",
    "    wf = low / (np.sqrt(4*np.pi)*rho)\n",
    "    #wf = wf / np.trapz(wf,rho) # Normalization\n",
    "    \n",
    "    epsilon = np.min(Eigenvalues)\n",
    "\n",
    "    return epsilon, wf\n",
    "\n",
    "def generate_energy(epsilon, V_H, n, Z):\n",
    "    # Excluding exchange-correlation terms\n",
    "    E = Z*epsilon - 4*Z*np.pi* \\\n",
    "        np.trapz((V_H*n/2) * rho**2, rho)\n",
    "    \n",
    "    return E\n",
    "\n",
    "def generate_hartree(rho,N,n):\n",
    "    A = np.diag(-2*np.ones(N),0) + \\\n",
    "        np.diag(np.ones(N-1),1) + \\\n",
    "        np.diag(np.ones(N-1),-1)\n",
    "    \n",
    "    V = -4*np.pi*h**2*rho*n\n",
    "    V[-1] -= 1.5\n",
    "    \n",
    "    V_H = (np.linalg.solve(A,V))*rho**-1\n",
    "    return V_H\n",
    "\n",
    "def self_consistency_solver(iterations,threshold):\n",
    "    converged = False\n",
    "\n",
    "    E = np.zeros(iter)\n",
    "    n = init_guess\n",
    "    V_H = Z*generate_hartree(rho,N,n)\n",
    "    \n",
    "    for i in range(iter):\n",
    "        print(f'Iteration: {i}',end='\\r')\n",
    "        psi = generate_wavefunction(rho,V_H,Z)[1]\n",
    "        epsilon = generate_wavefunction(rho,V_H,Z)[0]\n",
    "        \n",
    "        n = np.abs(psi)**2\n",
    "        V_H = Z*generate_hartree(rho,N,n)\n",
    "        E[i] = generate_energy(epsilon, V_H, n, Z)\n",
    "\n",
    "        if np.abs(E[i]-E[i-1]) < threshold:\n",
    "            print(\"E_g = \" + str( E[i]))\n",
    "            print(\"E = \" + str(E[i]))\n",
    "            converged = True\n",
    "            break\n",
    "            \n",
    "    if converged == False:\n",
    "        print(f'Did not converge in {iter} iterations.')\n",
    "\n",
    "self_consistency_solver(iter,threshold)"
   ]
  }
 ],
 "metadata": {
  "kernelspec": {
   "display_name": "Python 3",
   "language": "python",
   "name": "python3"
  },
  "language_info": {
   "codemirror_mode": {
    "name": "ipython",
    "version": 3
   },
   "file_extension": ".py",
   "mimetype": "text/x-python",
   "name": "python",
   "nbconvert_exporter": "python",
   "pygments_lexer": "ipython3",
   "version": "3.9.0"
  },
  "orig_nbformat": 4,
  "vscode": {
   "interpreter": {
    "hash": "e4141dd47493d41e3aa9178167523f3ccba7cb41484e039197de5dc2926091f3"
   }
  }
 },
 "nbformat": 4,
 "nbformat_minor": 2
}
