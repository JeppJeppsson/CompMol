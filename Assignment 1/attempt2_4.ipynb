{
 "cells": [
  {
   "cell_type": "code",
   "execution_count": 4,
   "metadata": {},
   "outputs": [
    {
     "name": "stdout",
     "output_type": "stream",
     "text": [
      "E_g = -1.7447854493528798.9708254261386883\n",
      "Total amount of iterations: 263\n"
     ]
    }
   ],
   "source": [
    "import numpy as np\n",
    "import scipy\n",
    "from matplotlib import pyplot as plt\n",
    "#Task 4\n",
    "Z=2\n",
    "N = 1000\n",
    "a = float(0)\n",
    "b = float(5) #This can be referred to as rmax in some cases\n",
    "h = (b-a)/N\n",
    "rho = np.arange(1,N+1)*h\n",
    "\n",
    "initial_guess =1/np.pi*Z**3*np.exp(-2*Z*rho) \n",
    "\n",
    "def generate_wavefunction(rho,V,Z):\n",
    "    #Returns a wave function and epsilon energy\n",
    "    diagonal_term = h**-2 - Z*rho**-1 + V\n",
    "    A = np.diag(diagonal_term,0)+np.diag(-np.ones(N-1)/(2*h**2),1)+np.diag(-np.ones(N-1)/(2*h**2),-1)\n",
    "    #Eigenvalues & eigenvectors:\n",
    "    (Eigenvalues,Eigenvectors) = np.linalg.eig(A)\n",
    "  \n",
    "    # X contains N eigenvalues, build the wavefunction\n",
    "    #with the lowest eigenvalue:\n",
    "    \n",
    "    minimized_energy_vector = Eigenvectors[:,np.argmin(Eigenvalues)]\n",
    "    temp = minimized_energy_vector\n",
    "    temp = temp/(np.sqrt(np.trapz(temp**2,rho))*np.sign(temp[0]))\n",
    "    \n",
    "    wavefunction = 1/np.sqrt(4*np.pi)*temp*rho**-1\n",
    "    \n",
    "    #Normalize\n",
    "    #wavefunction = wavefunction/(np.trapz(wavefunction,rho))\n",
    "    epsilon = np.min(Eigenvalues).real\n",
    "    \n",
    "    return (epsilon,wavefunction)\n",
    "\n",
    "\n",
    "def generate_energy(epsilon, V_H, density, Z):\n",
    "    E = Z*epsilon-4*Z*\\\n",
    "        np.pi*np.trapz((V_H*density/2)*rho**2,rho)  \n",
    "    return E\n",
    "\n",
    "def generate_hartree(rho,N,density):\n",
    "    A = np.diag(-2*np.ones(N),0)+np.diag(np.ones(N-1),1) + np.diag(np.ones(N-1),-1)\n",
    "    potential = -4*np.pi*h**2*rho*density\n",
    "    potential[-1] -= 1.5\n",
    "    \n",
    "    V_H = (np.linalg.solve(A,potential))*rho**-1\n",
    "    return V_H\n",
    "\n",
    "def self_consistency_solver(iterations,threshhold):\n",
    "    E = np.zeros(iterations)\n",
    "    density = initial_guess\n",
    "    V_H = Z*generate_hartree(rho,N,density)\n",
    "    for i in range(iterations):\n",
    "        #print(f'Iteration: {i}',end='\\r')\n",
    "        \n",
    "        psi = generate_wavefunction(rho,V_H,Z)[1]\n",
    "        epsilon = generate_wavefunction(rho,V_H,Z)[0]\n",
    "        \n",
    "        density = np.abs(psi)**2\n",
    "        V_H = Z*generate_hartree(rho,N,density)\n",
    "        E[i] = generate_energy(epsilon, V_H,density,Z)\n",
    "\n",
    "        print(f'Iteration: {i}, Diff%: {(E[i]-E[i-1])/threshhold}',end='\\r')\n",
    "\n",
    "        if np.abs(E[i]-E[i-1]) < threshhold:\n",
    "            print(\"E_g = \" + str( E[i]))\n",
    "            it_fin = i # Iterations to reach convergence\n",
    "            break\n",
    "        \n",
    "    print(f'Total amount of iterations: {it_fin}')\n",
    "\n",
    "\n",
    "iterations = 500\n",
    "threshhold = 1e-5\n",
    "self_consistency_solver(iterations,threshhold)\n"
   ]
  }
 ],
 "metadata": {
  "kernelspec": {
   "display_name": "Python 3",
   "language": "python",
   "name": "python3"
  },
  "language_info": {
   "codemirror_mode": {
    "name": "ipython",
    "version": 3
   },
   "file_extension": ".py",
   "mimetype": "text/x-python",
   "name": "python",
   "nbconvert_exporter": "python",
   "pygments_lexer": "ipython3",
   "version": "3.9.0"
  },
  "orig_nbformat": 4,
  "vscode": {
   "interpreter": {
    "hash": "e4141dd47493d41e3aa9178167523f3ccba7cb41484e039197de5dc2926091f3"
   }
  }
 },
 "nbformat": 4,
 "nbformat_minor": 2
}
