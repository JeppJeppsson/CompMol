{
 "cells": [
  {
   "cell_type": "code",
   "execution_count": 21,
   "metadata": {},
   "outputs": [],
   "source": [
    "# Initialization\n",
    "import numpy as np\n",
    "import scipy as sp\n",
    "from ase import Atoms\n",
    "from ase.io.trajectory import Trajectory\n",
    "from matplotlib import pyplot as plt\n",
    "\n",
    "plt.rcParams['text.usetex'] = True # Allows for TeX in figures\n",
    "\n",
    "# Importing the trajectories\n",
    "traj_AIMD = Trajectory('Data/Dynamics.traj')       # Our AIMD\n",
    "traj_Na   = Trajectory('Na-aimd/NaCluster24.traj') # Theirs w Na+\n",
    "traj_H2O  = Trajectory('Na-aimd/cluster24.traj')   # Theirs w/o Na+"
   ]
  },
  {
   "cell_type": "code",
   "execution_count": 22,
   "metadata": {},
   "outputs": [
    {
     "name": "stderr",
     "output_type": "stream",
     "text": [
      "C:\\Users\\hemda\\AppData\\Roaming\\Python\\Python39\\site-packages\\ase\\utils\\__init__.py:62: FutureWarning: Please use atoms.cell.cellpar() instead\n",
      "  warnings.warn(warning)\n"
     ]
    },
    {
     "name": "stdout",
     "output_type": "stream",
     "text": [
      "4.0038\n",
      "4.390571428571429\n"
     ]
    },
    {
     "data": {
      "image/png": "[encoded data removed]",
      "text/plain": [
       "<Figure size 432x288 with 1 Axes>"
      ]
     },
     "metadata": {
      "needs_background": "light"
     },
     "output_type": "display_data"
    }
   ],
   "source": [
    "# Finding the RDF and the first solvation shell\n",
    "def RDF(traj,a_id=72,N=73,start=0,stop=None):\n",
    "    '''\n",
    "    traj  - Trajectory object\n",
    "    a_id  - ID of atom to be analyzed\n",
    "    N     - Amount of atoms\n",
    "    start - Initial step of trajectory\n",
    "    stop  - Final step of trajectory\n",
    "    '''\n",
    "    if stop == None:\n",
    "        stop = len(traj) # Default stop snapshot is the final one\n",
    "    \n",
    "    d = np.zeros([])         # Empty distance array to be filled\n",
    "    d_sum = np.zeros(N-1)\n",
    "    V = traj[0].get_volume() # Cell volume\n",
    "    rho = V/len(traj[0])     # Particle density\n",
    "\n",
    "    w = traj[0].get_cell_lengths_and_angles()[0] # Cell width\n",
    "\n",
    "    # Distance from Na+ to O for each timestep\n",
    "    for i in range(start,stop):\n",
    "        atoms = traj[i]\n",
    "        d_i = atoms.get_distances(a_id,\n",
    "                atoms.get_atomic_numbers()==8,mic=True) # Distances to oxygen\n",
    "                \n",
    "        d_i = np.where(d_i<w,d_i,d_i-w) # Applying the boundary condition\n",
    "\n",
    "        d = np.append(d,d_i) # Add to list\n",
    "    \n",
    "    d = d[d != 0] # Disregard eventual distances to the atom itself \n",
    "    \n",
    "    d_sum *= len(traj)**-1\n",
    "    d_sum = np.sort(d_sum)\n",
    "\n",
    "    # Finding the RDF g(r)\n",
    "    hist = np.histogram(d,bins=100) # Data binning\n",
    "    plt.hist(d,bins=100)\n",
    "    dr   = hist[1][1] - hist[1][0]\n",
    "    r    = hist[1][1:] - dr/2\n",
    "    dn_r = hist[0]/(stop-start)\n",
    "\n",
    "    gPrime = dn_r*(4*np.pi*r**2*dr*rho)**-1\n",
    "    #g = dn_r*(dr)**-1\n",
    "\n",
    "    # Finding the first solvation shell\n",
    "    r_1,r_2 = 3,8 # Approximated radii\n",
    "    minapprox = int((r_1-r[0])/dr) # Approximation of first minimum\n",
    "    min = np.argmin(gPrime[minapprox-r_2:minapprox+r_2]) + minapprox - r_2\n",
    "\n",
    "    SH = sum(hist[0][:min])/(stop-start) # Solvation shell\n",
    "\n",
    "    return [r,gPrime], SH\n",
    "\n",
    "data,SH = RDF(traj_AIMD) # Our AIMD run\n",
    "data_Na,SH_Na = RDF(traj_Na,start=3500) # Theirs w Na\n",
    "data_H2O,SH_H2O = RDF(traj_H2O,a_id=4,N=72,start=2000) # Theirs w/o Na"
   ]
  },
  {
   "cell_type": "code",
   "execution_count": null,
   "metadata": {},
   "outputs": [],
   "source": [
    "# Plotting\n",
    "\n",
    "save_figs = False\n",
    "\n",
    "# Individual figures\n",
    "fig1,ax1 = plt.subplots(figsize=(7,7)) # Our AIMD\n",
    "fig2,ax2 = plt.subplots(figsize=(7,7)) # Theirs w Na\n",
    "fig3,ax3 = plt.subplots(figsize=(7,7)) # Theirs w/o Na\n",
    "\n",
    "ax    = [ax1,ax2,ax3]\n",
    "radii = [data[0],data_Na[0],data_H2O[0]]\n",
    "rdf   = [data[1],data_Na[1],data_H2O[1]]\n",
    "label = [r'Our data (Na$^+$)',r'Git data (Na$^+$)',r'Git data (H$_2$O)']\n",
    "\n",
    "for i in range(3):\n",
    "    ax[i].plot(radii[i][20:],rdf[i][20:],label=label[i])\n",
    "    ax[i].tick_params(axis = 'both', labelsize = 15)\n",
    "    ax[i].set_xlabel(r\"Radius [Å]\",fontsize=20)\n",
    "    ax[i].set_ylabel(r\"g(r)\",fontsize=20)\n",
    "    ax[i].set_xlim([radii[i][20],radii[i][-1]])\n",
    "    ax[i].set_ylim([0,1.05*np.amax(rdf[i][20:])])\n",
    "    ax[i].grid()\n",
    "    ax[i].legend(fontsize=19)\n",
    "\n",
    "# Superimposed plot\n",
    "fig_all,ax_all = plt.subplots(figsize=(10,7))\n",
    "\n",
    "ax_all.plot(radii[0][20:],rdf[0][20:],label=r'Our data (Na$^+$)')\n",
    "ax_all.plot(radii[1][20:],rdf[1][20:],label=r'Git data (Na$^+$)')\n",
    "ax_all.plot(radii[2][20:],rdf[2][20:],label=r'Git data (H$_2$O)')\n",
    "\n",
    "ax_all.tick_params(axis = 'both', labelsize = 15)\n",
    "ax_all.set_xlabel(r\"Radius [Å]\",fontsize=20)\n",
    "ax_all.set_ylabel(r\"g(r)\",fontsize=20)\n",
    "ax_all.set_xlim([radii[0][20],radii[0][-1]])\n",
    "ax_all.set_ylim([0,0.016])\n",
    "ax_all.grid()\n",
    "ax_all.legend(fontsize=19)\n",
    "\n",
    "# Saving the figures\n",
    "if save_figs == True:\n",
    "    fig1.savefig('Figures/RDF our NA.pdf',bbox_inches='tight')\n",
    "    fig2.savefig('Figures/RDF their Na.pdf',bbox_inches='tight')\n",
    "    fig3.savefig('Figures/RDF Only H2O.pdf',bbox_inches='tight')\n",
    "    fig_all.savefig('Figures/RDF superimposed.pdf',bbox_inches='tight')"
   ]
  },
  {
   "cell_type": "code",
   "execution_count": 23,
   "metadata": {},
   "outputs": [
    {
     "name": "stdout",
     "output_type": "stream",
     "text": [
      "Our Na:    SH = 4.575\n",
      "Their Na:  SH = 4.390571428571429\n",
      "Their H20: SH = 4.0038\n"
     ]
    }
   ],
   "source": [
    "print(f'Our Na:    SH = {SH}')\n",
    "print(f'Their Na:  SH = {SH_Na}')\n",
    "print(f'Their H20: SH = {SH_H2O}')"
   ]
  }
 ],
 "metadata": {
  "kernelspec": {
   "display_name": "Python 3",
   "language": "python",
   "name": "python3"
  },
  "language_info": {
   "codemirror_mode": {
    "name": "ipython",
    "version": 3
   },
   "file_extension": ".py",
   "mimetype": "text/x-python",
   "name": "python",
   "nbconvert_exporter": "python",
   "pygments_lexer": "ipython3",
   "version": "3.9.0"
  },
  "orig_nbformat": 4,
  "vscode": {
   "interpreter": {
    "hash": "e4141dd47493d41e3aa9178167523f3ccba7cb41484e039197de5dc2926091f3"
   }
  }
 },
 "nbformat": 4,
 "nbformat_minor": 2
}
