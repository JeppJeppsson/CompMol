{
 "cells": [
  {
   "cell_type": "code",
   "execution_count": 20,
   "metadata": {},
   "outputs": [
    {
     "name": "stdout",
     "output_type": "stream",
     "text": [
      "718.449183\n"
     ]
    }
   ],
   "source": [
    "# Initialization\n",
    "import numpy as np\n",
    "import scipy as sp\n",
    "from ase import Atoms\n",
    "from ase.io.trajectory import Trajectory\n",
    "\n",
    "# Importing the trajectory\n",
    "traj = Trajectory('temp.traj')\n",
    "cell_volume = traj[0].get_volume()\n",
    "particle_density = cell_volume/len(traj[0])\n",
    "\n",
    "#Traj object has parameters: traj[snapshot nr.][atom index]\n",
    "\n",
    "#for atoms in traj \n",
    "distances = traj[-1].get_distances(72,np.arange(72))\n",
    "\n",
    "\n",
    "#for atoms in traj:\n",
    "#    distances = atoms[-1].get_distances()"
   ]
  }
 ],
 "metadata": {
  "kernelspec": {
   "display_name": "Python 3",
   "language": "python",
   "name": "python3"
  },
  "language_info": {
   "codemirror_mode": {
    "name": "ipython",
    "version": 3
   },
   "file_extension": ".py",
   "mimetype": "text/x-python",
   "name": "python",
   "nbconvert_exporter": "python",
   "pygments_lexer": "ipython3",
   "version": "3.10.4"
  },
  "orig_nbformat": 4,
  "vscode": {
   "interpreter": {
    "hash": "f2669f7703f4675c5222d5753f3cefc8825c92c01a8459cb00f1b46dd08c7685"
   }
  }
 },
 "nbformat": 4,
 "nbformat_minor": 2
}
