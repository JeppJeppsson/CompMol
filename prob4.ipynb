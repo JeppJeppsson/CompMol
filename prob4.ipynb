{
 "cells": [
  {
   "cell_type": "code",
   "execution_count": 3,
   "metadata": {},
   "outputs": [],
   "source": [
    "# Initialization\n",
    "import numpy as np\n",
    "import scipy as sp\n",
    "from matplotlib import pyplot as plt\n",
    "\n",
    "# Constants\n",
    "threshold = 1e-5 # In eV\n",
    "iter = 100\n",
    "Z = 2 # Helium\n",
    "\n",
    "# Finite difference method setup\n",
    "N = 1000\n",
    "r_min = 0\n",
    "r_max = 5\n",
    "h = (r_max - r_min) / N\n",
    "rho = np.arange(1,N+1)*h # Range from r_min to r_max\n",
    "\n",
    "init_guess = 1/np.pi*Z**3*np.exp(-2*Z*rho) # Alex's guess"
   ]
  },
  {
   "cell_type": "code",
   "execution_count": null,
   "metadata": {},
   "outputs": [],
   "source": [
    "# Helper functions\n",
    "def generate_wavefunction(rho,V,Z):\n",
    "    # Determines the wavefunction and energy using the Hartree approximation\n",
    "\n",
    "    A = np.diag(h**-2 - Z*rho**-1 + V,0) + \\\n",
    "        np.diag(-np.ones(N-1)/(2*h**2),1) + \\\n",
    "        np.diag(-np.ones(N-1)/(2*h**2),-1) # FDM matrix\n",
    "    \n",
    "    # Eigenvalues and -vectors\n",
    "    (Eigenvalues,Eigenvectors) = np.linalg.eig(A)\n",
    "\n",
    "    # For the ground state, we make use of the lowest eigenstate\n",
    "    low = Eigenvectors[:,np.argmin(Eigenvalues)]\n",
    "    low = np.sign(low[0]) * low / np.linalg.norm(low) # Normalizing\n",
    "\n",
    "    # Finally calculating the wavefunction using eq.34\n",
    "    wf = low / (np.sqrt(4*np.pi)*rho)\n",
    "    wf_norm = wf / np.trapz(wf,rho) # Normalization\n",
    "    \n",
    "    epsilon = np.min(Eigenvalues)\n",
    "\n",
    "    return epsilon, wf_norm\n",
    "\n",
    "def generate_energy"
   ]
  }
 ],
 "metadata": {
  "kernelspec": {
   "display_name": "Python 3",
   "language": "python",
   "name": "python3"
  },
  "language_info": {
   "codemirror_mode": {
    "name": "ipython",
    "version": 3
   },
   "file_extension": ".py",
   "mimetype": "text/x-python",
   "name": "python",
   "nbconvert_exporter": "python",
   "pygments_lexer": "ipython3",
   "version": "3.9.0"
  },
  "orig_nbformat": 4,
  "vscode": {
   "interpreter": {
    "hash": "e4141dd47493d41e3aa9178167523f3ccba7cb41484e039197de5dc2926091f3"
   }
  }
 },
 "nbformat": 4,
 "nbformat_minor": 2
}
