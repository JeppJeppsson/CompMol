{
 "cells": [
  {
   "cell_type": "code",
   "execution_count": 1,
   "metadata": {},
   "outputs": [],
   "source": [
    "import ase.io\n",
    "from ase.db import connect\n",
    "\n",
    "# Fetching the atoms\n",
    "db6 = connect('data/gadb6.db')\n",
    "db7 = connect('data/gadb7.db')\n",
    "db8 = connect('data/gadb8.db')\n",
    "\n",
    "atoms6 = db6.get('id=190').toatoms()\n",
    "atoms7 = db7.get('id=22').toatoms()\n",
    "atoms8 = db8.get('id=33').toatoms()\n",
    "\n",
    "# Saving the atoms as xyz\n",
    "ase.io.write('data/T7/Second Na6.xyz',atoms6)\n",
    "ase.io.write('data/T7/Second Na7.xyz',atoms7)\n",
    "ase.io.write('data/T7/Second Na8.xyz',atoms8)\n",
    "\n",
    "# Saving the atoms as png\n",
    "ase.io.write('data/T7/Second Na6.png',atoms6)\n",
    "ase.io.write('data/T7/Second Na7.png',atoms7)\n",
    "ase.io.write('data/T7/Second Na8.png',atoms8)"
   ]
  }
 ],
 "metadata": {
  "kernelspec": {
   "display_name": "Python 3",
   "language": "python",
   "name": "python3"
  },
  "language_info": {
   "codemirror_mode": {
    "name": "ipython",
    "version": 3
   },
   "file_extension": ".py",
   "mimetype": "text/x-python",
   "name": "python",
   "nbconvert_exporter": "python",
   "pygments_lexer": "ipython3",
   "version": "3.10.4"
  },
  "orig_nbformat": 4,
  "vscode": {
   "interpreter": {
    "hash": "f2669f7703f4675c5222d5753f3cefc8825c92c01a8459cb00f1b46dd08c7685"
   }
  }
 },
 "nbformat": 4,
 "nbformat_minor": 2
}
