{
 "cells": [
  {
   "cell_type": "code",
   "execution_count": null,
   "metadata": {},
   "outputs": [],
   "source": [
    "import gpaw as gp\n",
    "from ase.io import read\n",
    "from ase import Atoms\n",
    "from ase.optimize import BFGS\n",
    "from ase.visualize import view\n",
    "import numpy as np\n",
    "from gpaw import GPAW, PW\n",
    "\n",
    "#,[1, 1, 1],[0,0,1],[1, 0, 1],[0,0,2]\n",
    "\n",
    "# Create an Atoms object representing the atom structure (this is an ASE object)\n",
    "#atoms = read('half-decahedron.xyz') # christmas-tree.xyz\n",
    "atoms = Atoms('Na6', positions=[[0, 0, 1],[1,1,1],[1, 5, 1],[4,1,0],[1, 3, 1],[1,0,2]]) #cell=(10, 10, 10)\n",
    "atoms.center(vacuum=3.0) \n",
    "\n",
    "# Set up GPAW calculator\n",
    "calc = gp.GPAW(mode='fd',xc='LDA', h=0.2,txt='h2.txt') #we can play around with different setting on the GPAW calculator to see which one is best.  (fd = finite differences method)\n",
    "\n",
    "#calc = gp.GPAW(xc='LDA', #should we use PBE? plane waves? instead of fd?\n",
    "#               mode=PW(600),\n",
    "#               txt='h2.txt')\n",
    "\n",
    "atoms.set_calculator(calc) #attach calculator to atom, GPAW is a calculator that attaches to an ASE object such as atoms. \n",
    "\n",
    "# BFGS optimizes the cluster structure, i.e finds the local minimum (not global minimum)\n",
    "opt = BFGS(atoms, logfile='bfgs.log')\n",
    "\n",
    "opt.run(fmax=0.05)\n",
    "\n",
    "# The cluster is now relaxed and we extract the energy.\n",
    "energy = atoms.get_potential_energy()\n",
    "\n",
    "print('Energy: ', energy)\n",
    "\n",
    "\n",
    "# Save the wavefunction in a .gpw file\n",
    "calc.write('wavefunction.gpw')\n",
    "view(atoms)  #plot the cluster."
   ]
  }
 ],
 "metadata": {
  "kernelspec": {
   "display_name": "Python 3",
   "language": "python",
   "name": "python3"
  },
  "language_info": {
   "name": "python",
   "version": "3.9.0 (tags/v3.9.0:9cf6752, Oct  5 2020, 15:34:40) [MSC v.1927 64 bit (AMD64)]"
  },
  "orig_nbformat": 4,
  "vscode": {
   "interpreter": {
    "hash": "e4141dd47493d41e3aa9178167523f3ccba7cb41484e039197de5dc2926091f3"
   }
  }
 },
 "nbformat": 4,
 "nbformat_minor": 2
}
