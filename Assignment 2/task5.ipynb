{
 "cells": [
  {
   "cell_type": "code",
   "execution_count": null,
   "metadata": {},
   "outputs": [],
   "source": [
    "import ase.io\n",
    "from ase.db import connect\n",
    "\n",
    "# Fetching the atoms\n",
    "db = connect('gadb.db')\n",
    "atoms = db.get('id=1').toatoms()\n",
    "\n",
    "# Saving the atoms\n",
    "ase.io.write('[insert structure here].xyz','[name of object to be saved]')"
   ]
  }
 ],
 "metadata": {
  "language_info": {
   "name": "python"
  },
  "orig_nbformat": 4
 },
 "nbformat": 4,
 "nbformat_minor": 2
}
