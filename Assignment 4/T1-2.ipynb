{
 "cells": [
  {
   "cell_type": "code",
   "execution_count": null,
   "metadata": {},
   "outputs": [],
   "source": [
    "from gpaw import GPAW, PW\n",
    "from ase import Atoms\n",
    "import numpy as np\n",
    "\n",
    "#Code for task 1 and 2\n",
    "\n",
    "latticeConstantGuesses = [4.16, 3.93, 3.81]\n",
    "materialList           = [\"Au\",\"Pt\", \"Rh\"]\n",
    "DFT_referenceEnergies  = [-0.158, -0.704, -1.218 ] #This is needed for task 2!\n",
    "\n",
    "#Parameters:\n",
    "k = 12 #resolution\n",
    "cutoff = 450 \n",
    "step_size = 0.01\n",
    "\n",
    "energies=[]\n",
    "\n",
    "for i in range(3):  #Material loop\n",
    "    \n",
    "    latticeConstantGuess = latticeConstantGuesses[i]\n",
    "    material = materialList[i]\n",
    "    print(f\"material: {material}  --------------\")\n",
    "\n",
    "    #Generate a list of lattice constants to examine for a given material\n",
    "    a_trials = np.arange(latticeConstantGuess-4*step_size,\n",
    "                         latticeConstantGuess+8*step_size,\n",
    "                         step=step_size)   #Length 12 or 13\n",
    "     \n",
    "    for a_trial in a_trials:  #Loop through a list of trial lattice constants\n",
    "\n",
    "       b = a_trial/2\n",
    "       structure = Atoms(material,pbc = True, \n",
    "                    cell = [ [0, b, b],\n",
    "                             [b, 0, b],\n",
    "                             [b, b, 0] ]) \n",
    "       \n",
    "       calculator = GPAW(mode=PW(cutoff),\n",
    "                      xc='PBE',\n",
    "                      txt=f'{material}.out',\n",
    "                      kpts=(k, k, k),\n",
    "                      communicator=None)\n",
    "\n",
    "       structure.calc = calculator\n",
    "       potential_energy = structure.get_potential_energy()\n",
    "\n",
    "       #Append the energy along with the trialed lattice constant\n",
    "       energies.append(potential_energy)\n",
    "       print(f\"a = {a_trial}\")\n",
    "       print(f\"E = {potential_energy}eV\")\n",
    "       print(\"---------------------------\")"
   ]
  }
 ],
 "metadata": {
  "kernelspec": {
   "display_name": "Python 3",
   "language": "python",
   "name": "python3"
  },
  "language_info": {
   "name": "python",
   "version": "3.9.0"
  },
  "orig_nbformat": 4,
  "vscode": {
   "interpreter": {
    "hash": "e4141dd47493d41e3aa9178167523f3ccba7cb41484e039197de5dc2926091f3"
   }
  }
 },
 "nbformat": 4,
 "nbformat_minor": 2
}
