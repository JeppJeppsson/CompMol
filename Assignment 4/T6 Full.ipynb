{
 "cells": [
  {
   "cell_type": "code",
   "execution_count": 19,
   "metadata": {},
   "outputs": [],
   "source": [
    "from ase.optimize import BFGS\n",
    "from gpaw import GPAW\n",
    "from ase.io import read\n",
    "import numpy as np\n",
    "\n",
    "metals     = ['Au','Pt','Rh']\n",
    "adsorbants = ['O', 'CO']\n",
    "\n",
    "calcs = ['Data/T3/Au.gpw',\n",
    "         'Data/T3/Pt.gpw',\n",
    "         'Data/T3/Rh.gpw']\n",
    "\n",
    "E = np.zeros((3,2))\n",
    "\n",
    "for i in range(3):\n",
    "    for j in range(2):\n",
    "        surface = read(f'Data/Adsorbed/{metals[i]}_{adsorbants[j]}.xyz') # Read ads. surfaces\n",
    "        calc = GPAW(calcs[i]) # Restart GPAW calcs from T3\n",
    "        surface.set_calculator(calc)\n",
    "        dyn = BFGS(surface,\n",
    "                   trajectory=f'{metals[i]}_{adsorbants[j]}.traj',\n",
    "                   logfile=f'{metals[i]}_{adsorbants[j]}.log')\n",
    "        dyn.run(fmax=.01)\n",
    "        E[i,j] = surface.get_potential_energy()\n",
    "    \n",
    "np.savetxt('energies Au Pt Rh O CO.txt',E)"
   ]
  },
  {
   "cell_type": "code",
   "execution_count": 1,
   "metadata": {},
   "outputs": [
    {
     "name": "stdout",
     "output_type": "stream",
     "text": [
      "Adsorption Energies ([Au,Pt,Rh])\n",
      "O:  [2.94994986 4.2985244  4.85159775] eV\n",
      "CO: [14.39489861 15.94796189 16.01242614] eV \n",
      "\n",
      "Activation energies ([Au,Pt,Rh])\n",
      "[-4.98345454 -5.85394589 -6.03920717] eV\n"
     ]
    }
   ],
   "source": [
    "import numpy as np\n",
    "\n",
    "# Import surface and adsorbed energies\n",
    "E_surface = np.loadtxt('Data/T3/energies.txt')\n",
    "E_O,E_CO  = np.loadtxt('Data/T6/energies Au Pt Rh O CO.txt',\n",
    "                        unpack=True)\n",
    "\n",
    "# Calculate the adsorption energies\n",
    "O_adsorp  = E_surface-E_O\n",
    "CO_adsorp = E_surface-E_CO\n",
    "\n",
    "# Activation energies\n",
    "E_activation = .22 - .3*(O_adsorp + CO_adsorp)\n",
    "\n",
    "print('Adsorption Energies ([Au,Pt,Rh])')\n",
    "print(f'O:  {O_adsorp} eV')\n",
    "print(f'CO: {CO_adsorp} eV','\\n')\n",
    "\n",
    "print('Activation energies ([Au,Pt,Rh])')\n",
    "print(f'{E_activation} eV')"
   ]
  },
  {
   "cell_type": "code",
   "execution_count": 3,
   "metadata": {},
   "outputs": [
    {
     "name": "stdout",
     "output_type": "stream",
     "text": [
      "[[ 0 -1]\n",
      " [ 1  0]]\n"
     ]
    }
   ],
   "source": [
    "import numpy as np\n",
    "\n",
    "A = np.array([1,2])\n",
    "B = np.array([[1,1],\n",
    "              [2,2]])\n",
    "\n",
    "print(B-A)"
   ]
  }
 ],
 "metadata": {
  "kernelspec": {
   "display_name": "Python 3",
   "language": "python",
   "name": "python3"
  },
  "language_info": {
   "codemirror_mode": {
    "name": "ipython",
    "version": 3
   },
   "file_extension": ".py",
   "mimetype": "text/x-python",
   "name": "python",
   "nbconvert_exporter": "python",
   "pygments_lexer": "ipython3",
   "version": "3.9.0"
  },
  "orig_nbformat": 4,
  "vscode": {
   "interpreter": {
    "hash": "e4141dd47493d41e3aa9178167523f3ccba7cb41484e039197de5dc2926091f3"
   }
  }
 },
 "nbformat": 4,
 "nbformat_minor": 2
}
