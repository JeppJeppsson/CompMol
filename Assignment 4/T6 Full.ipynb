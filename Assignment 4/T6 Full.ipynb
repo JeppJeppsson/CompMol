{
 "cells": [
  {
   "cell_type": "code",
   "execution_count": 19,
   "metadata": {},
   "outputs": [],
   "source": [
    "### Adsorbed surface relaxation\n",
    "from ase.optimize import BFGS\n",
    "from gpaw import GPAW\n",
    "from ase.io import read\n",
    "import numpy as np\n",
    "\n",
    "metals     = ['Au','Pt','Rh']\n",
    "adsorbants = ['O', 'CO']\n",
    "\n",
    "calcs = ['Data/T3/Au.gpw',\n",
    "         'Data/T3/Pt.gpw',\n",
    "         'Data/T3/Rh.gpw'] # Calculator wavefunctions from T3\n",
    "\n",
    "E = np.zeros((3,2))\n",
    "\n",
    "for i in range(3):\n",
    "    for j in range(2):\n",
    "        surface = read(f'Data/Adsorbed/{metals[i]}_{adsorbants[j]}.xyz') # Surfaces with absorbates\n",
    "        calc = GPAW(calcs[i]) # Restart GPAW calcs from T3\n",
    "        surface.set_calculator(calc)\n",
    "        dyn = BFGS(surface,\n",
    "                   trajectory=f'{metals[i]}_{adsorbants[j]}.traj',\n",
    "                   logfile=f'{metals[i]}_{adsorbants[j]}.log')\n",
    "        dyn.run(fmax=.01)\n",
    "        \n",
    "        E[i,j] = surface.get_potential_energy()\n",
    "    \n",
    "np.savetxt('energies Au Pt Rh O CO.txt',E)"
   ]
  },
  {
   "cell_type": "code",
   "execution_count": 7,
   "metadata": {},
   "outputs": [
    {
     "name": "stdout",
     "output_type": "stream",
     "text": [
      "Adsorption Energies ([Au,Pt,Rh])\n",
      "O:  [-4.1472408  -2.79819001 -2.24519344] eV\n",
      "CO: [5.66712952 7.22066905 7.28505651] eV \n",
      "\n",
      "Activation energies ([Au,Pt,Rh])\n",
      "[-0.23596662 -1.10674371 -1.29195892] eV\n"
     ]
    }
   ],
   "source": [
    "### Energy calculations\n",
    "\n",
    "# Import surface and adsorbed energies\n",
    "# The orders are [Au,Pt,Rh] and [CO,O2]\n",
    "E_surface = np.loadtxt('Data/T3/potential energies.txt') # Surface w/o adsorbate\n",
    "E_gases   = np.loadtxt('Data/T4/gas energies.txt')\n",
    "E_O,E_CO  = np.loadtxt('Data/T6/energies Au Pt Rh O CO.txt',\n",
    "                        unpack=True) # Surfaces w adsorbate\n",
    "'''\n",
    "# Calculate the adsorption energies according to\n",
    "# E_adsorption = E_with_adsorbate - (E_without_adsorbate + E_gas/2)\n",
    "E_O_ads  = E_O - (E_surface - E_gases[0]/4) # We approximate E_O = E_O2/2\n",
    "E_CO_ads = E_CO - (E_surface - E_gases[1]/2)\n",
    "O_adsorp  = E_surface-E_O\n",
    "CO_adsorp = E_surface-E_CO\n",
    "'''\n",
    "\n",
    "# Finding adsorption energies (E_ad = E_constituents - E_tot)\n",
    "E_ad_O  = E_surface + E_gases[0]/2 - E_O # E_gases is for O2, we approximate half for O\n",
    "E_ad_CO = E_surface + E_gases[1] - E_CO \n",
    "\n",
    "# Activation energies\n",
    "E_activation = .22 - .3*(E_ad_O + E_ad_CO)\n",
    "\n",
    "print('Adsorption Energies ([Au,Pt,Rh])')\n",
    "print(f'O:  {E_ad_O} eV')\n",
    "print(f'CO: {E_ad_CO} eV','\\n')\n",
    "\n",
    "print('Activation energies ([Au,Pt,Rh])')\n",
    "print(f'{E_activation} eV')"
   ]
  }
 ],
 "metadata": {
  "kernelspec": {
   "display_name": "Python 3",
   "language": "python",
   "name": "python3"
  },
  "language_info": {
   "codemirror_mode": {
    "name": "ipython",
    "version": 3
   },
   "file_extension": ".py",
   "mimetype": "text/x-python",
   "name": "python",
   "nbconvert_exporter": "python",
   "pygments_lexer": "ipython3",
   "version": "3.10.4"
  },
  "orig_nbformat": 4,
  "vscode": {
   "interpreter": {
    "hash": "f2669f7703f4675c5222d5753f3cefc8825c92c01a8459cb00f1b46dd08c7685"
   }
  }
 },
 "nbformat": 4,
 "nbformat_minor": 2
}
