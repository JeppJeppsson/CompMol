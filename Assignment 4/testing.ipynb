{
 "cells": [
  {
   "cell_type": "code",
   "execution_count": 19,
   "metadata": {},
   "outputs": [],
   "source": [
    "from ase.optimize import BFGS\n",
    "from gpaw import GPAW\n",
    "from ase.io import read\n",
    "import numpy as np\n",
    "\n",
    "metals     = ['Au','Pt','Rh']\n",
    "adsorbants = ['O', 'CO']\n",
    "\n",
    "calcs = ['Data/T3/Au.gpw',\n",
    "         'Data/T3/Pt.gpw',\n",
    "         'Data/T3/Rh.gpw']\n",
    "\n",
    "E = np.zeros((3,2))\n",
    "\n",
    "for i in range(3):\n",
    "    for j in range(2):\n",
    "        surface = read(f'Data/Adsorbed/{metals[i]}_{adsorbants[j]}.xyz') # Read ads. surfaces\n",
    "        calc = GPAW(calcs[i]) # Restart GPAW cals from T3\n",
    "        surface.set_calculator(calc)\n",
    "        dyn = BFGS(surface,\n",
    "                   trajectory=f'{metals[i]}_{adsorbants[j]}.traj',\n",
    "                   logfile=f'{metals[i]}_{adsorbants[j]}.log')\n",
    "        dyn.run(fmax=.01)\n",
    "        E[i,j] = surface.get_potential_energy()\n",
    "    \n",
    "np.savetxt('energies Au Pt Rh O CO.txt',E)\n"
   ]
  },
  {
   "cell_type": "code",
   "execution_count": null,
   "metadata": {},
   "outputs": [],
   "source": []
  }
 ],
 "metadata": {
  "kernelspec": {
   "display_name": "Python 3",
   "language": "python",
   "name": "python3"
  },
  "language_info": {
   "codemirror_mode": {
    "name": "ipython",
    "version": 3
   },
   "file_extension": ".py",
   "mimetype": "text/x-python",
   "name": "python",
   "nbconvert_exporter": "python",
   "pygments_lexer": "ipython3",
   "version": "3.10.4"
  },
  "orig_nbformat": 4,
  "vscode": {
   "interpreter": {
    "hash": "f2669f7703f4675c5222d5753f3cefc8825c92c01a8459cb00f1b46dd08c7685"
   }
  }
 },
 "nbformat": 4,
 "nbformat_minor": 2
}
